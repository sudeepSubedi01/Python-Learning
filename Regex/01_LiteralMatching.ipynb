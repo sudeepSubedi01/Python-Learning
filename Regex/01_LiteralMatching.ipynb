{
 "cells": [
  {
   "cell_type": "code",
   "execution_count": 9,
   "metadata": {},
   "outputs": [],
   "source": [
    "import re"
   ]
  },
  {
   "cell_type": "markdown",
   "metadata": {},
   "source": [
    "# `re.search()` <br>\n",
    "Syntax = `re.search(pattern,data)` <br>\n",
    "pattern = the regular expression pattern to search for <br>\n",
    "data = input string to search for the pattern\n",
    "<br><br>\n",
    "Returns: match object if match is found/ None if no match is found"
   ]
  },
  {
   "cell_type": "code",
   "execution_count": 27,
   "metadata": {},
   "outputs": [
    {
     "data": {
      "text/plain": [
       "<re.Match object; span=(17, 23), match='python'>"
      ]
     },
     "execution_count": 27,
     "metadata": {},
     "output_type": "execute_result"
    }
   ],
   "source": [
    "pattern = 'python'\n",
    "data = 'Python is a very python powerful language Python'\n",
    "re.search(pattern,data)       # returns a match object"
   ]
  },
  {
   "cell_type": "code",
   "execution_count": 28,
   "metadata": {},
   "outputs": [
    {
     "data": {
      "text/plain": [
       "'python'"
      ]
     },
     "execution_count": 28,
     "metadata": {},
     "output_type": "execute_result"
    }
   ],
   "source": [
    "(re.search(pattern,data)).group() "
   ]
  },
  {
   "cell_type": "markdown",
   "metadata": {},
   "source": [
    "Flag : re.IGNORECASE"
   ]
  },
  {
   "cell_type": "code",
   "execution_count": 30,
   "metadata": {},
   "outputs": [
    {
     "data": {
      "text/plain": [
       "'Python'"
      ]
     },
     "execution_count": 30,
     "metadata": {},
     "output_type": "execute_result"
    }
   ],
   "source": [
    "(re.search(pattern,data,re.IGNORECASE)).group() "
   ]
  },
  {
   "cell_type": "markdown",
   "metadata": {},
   "source": [
    "# `re.match()` <br>\n",
    "Purpose: search for a pattern **at the beginning of a string** <br>\n",
    "Syntax = `re.search(pattern,data)` <br>\n",
    "<br><br>\n",
    "Returns: match object if match is found at the beginning of the string / None if no match is found"
   ]
  },
  {
   "cell_type": "code",
   "execution_count": 33,
   "metadata": {},
   "outputs": [
    {
     "data": {
      "text/plain": [
       "<re.Match object; span=(0, 6), match='python'>"
      ]
     },
     "execution_count": 33,
     "metadata": {},
     "output_type": "execute_result"
    }
   ],
   "source": [
    "pattern = 'python'\n",
    "data = 'python is a very python powerful language Python'\n",
    "re.match(pattern,data) "
   ]
  },
  {
   "cell_type": "code",
   "execution_count": 35,
   "metadata": {},
   "outputs": [],
   "source": [
    "pattern = r'python'\n",
    "data = 'Python is a very python powerful language Python'\n",
    "re.match(pattern,data) "
   ]
  },
  {
   "cell_type": "markdown",
   "metadata": {},
   "source": [
    "# `re.compile()` <br>\n",
    "Purpose: to create a regex object <br>\n",
    "Syntax : `re.compile(pattern,flags)`"
   ]
  },
  {
   "cell_type": "code",
   "execution_count": 48,
   "metadata": {},
   "outputs": [
    {
     "data": {
      "text/plain": [
       "'pYthon'"
      ]
     },
     "execution_count": 48,
     "metadata": {},
     "output_type": "execute_result"
    }
   ],
   "source": [
    "pattern = re.compile(r'python',re.IGNORECASE)\n",
    "\n",
    "data = 'pYthon is a very python powerful language Python'\n",
    "(re.match(pattern,data)).group()"
   ]
  },
  {
   "cell_type": "code",
   "execution_count": 45,
   "metadata": {},
   "outputs": [
    {
     "name": "stdout",
     "output_type": "stream",
     "text": [
      "<class 're.Pattern'>\n"
     ]
    }
   ],
   "source": [
    "print(type(re.compile(r'python',re.IGNORECASE)))\n"
   ]
  },
  {
   "cell_type": "markdown",
   "metadata": {},
   "source": [
    "# `re.finditer()` <br>\n",
    "Purpose: iterates over the string to find the match<br>\n",
    "Syntax = `re.finditer(pattern,data,flags=0)` <br>\n",
    "<br><br>\n",
    "Returns iterator object containing match info(match objects)"
   ]
  },
  {
   "cell_type": "code",
   "execution_count": 61,
   "metadata": {},
   "outputs": [
    {
     "data": {
      "text/plain": [
       "<callable_iterator at 0x17530ab4be0>"
      ]
     },
     "execution_count": 61,
     "metadata": {},
     "output_type": "execute_result"
    }
   ],
   "source": [
    "pattern=re.compile('ab',re.IGNORECASE)\n",
    "data = 'ababbbabaab'\n",
    "re.finditer(pattern,data)       # if re.compile is not present, we can use flags here\n",
    "                                # returns an iterator object"
   ]
  },
  {
   "cell_type": "code",
   "execution_count": 62,
   "metadata": {},
   "outputs": [
    {
     "name": "stdout",
     "output_type": "stream",
     "text": [
      "<re.Match object; span=(0, 2), match='ab'>\n",
      "<re.Match object; span=(2, 4), match='ab'>\n",
      "<re.Match object; span=(6, 8), match='ab'>\n",
      "<re.Match object; span=(9, 11), match='ab'>\n"
     ]
    }
   ],
   "source": [
    "for m in re.finditer(pattern,data):\n",
    "  print(m)"
   ]
  },
  {
   "cell_type": "code",
   "execution_count": 63,
   "metadata": {},
   "outputs": [
    {
     "name": "stdout",
     "output_type": "stream",
     "text": [
      "0 2 ab\n",
      "2 4 ab\n",
      "6 8 ab\n",
      "9 11 ab\n"
     ]
    }
   ],
   "source": [
    "for m in re.finditer(pattern,data):\n",
    "  print(m.start(),m.end(),m.group())"
   ]
  },
  {
   "cell_type": "markdown",
   "metadata": {},
   "source": [
    "# `re.findall()` <br>\n",
    "Purpose: iterates over the string to find the match <br>\n",
    "Syntax = `re.findall(pattern,data,flags=0)` <br>\n",
    "<br><br>\n",
    "Returns a list of matched strings"
   ]
  },
  {
   "cell_type": "code",
   "execution_count": 65,
   "metadata": {},
   "outputs": [
    {
     "data": {
      "text/plain": [
       "['ab', 'ab', 'ab', 'Ab']"
      ]
     },
     "execution_count": 65,
     "metadata": {},
     "output_type": "execute_result"
    }
   ],
   "source": [
    "pattern=re.compile('ab',re.IGNORECASE)\n",
    "data = 'ababbbabaAb'\n",
    "re.findall(pattern,data)"
   ]
  },
  {
   "cell_type": "markdown",
   "metadata": {},
   "source": [
    "# `re.finditer() and re.findall` find all the non overlapping matches of a regular expression pattern in a string"
   ]
  },
  {
   "cell_type": "code",
   "execution_count": 68,
   "metadata": {},
   "outputs": [],
   "source": [
    "pattern = 'aa'\n",
    "string = 'aaaabbbaabaa'"
   ]
  },
  {
   "cell_type": "code",
   "execution_count": 73,
   "metadata": {},
   "outputs": [
    {
     "name": "stdout",
     "output_type": "stream",
     "text": [
      "0 aa\n",
      "2 aa\n",
      "7 aa\n",
      "10 aa\n"
     ]
    }
   ],
   "source": [
    "for f in re.finditer(pattern,string):\n",
    "  print(f.start(),f.group())"
   ]
  },
  {
   "cell_type": "code",
   "execution_count": 75,
   "metadata": {},
   "outputs": [
    {
     "data": {
      "text/plain": [
       "['aa', 'aa', 'aa', 'aa']"
      ]
     },
     "execution_count": 75,
     "metadata": {},
     "output_type": "execute_result"
    }
   ],
   "source": [
    "re.findall(pattern,string)"
   ]
  },
  {
   "cell_type": "code",
   "execution_count": null,
   "metadata": {},
   "outputs": [],
   "source": []
  }
 ],
 "metadata": {
  "kernelspec": {
   "display_name": "Python 3",
   "language": "python",
   "name": "python3"
  },
  "language_info": {
   "codemirror_mode": {
    "name": "ipython",
    "version": 3
   },
   "file_extension": ".py",
   "mimetype": "text/x-python",
   "name": "python",
   "nbconvert_exporter": "python",
   "pygments_lexer": "ipython3",
   "version": "3.12.2"
  }
 },
 "nbformat": 4,
 "nbformat_minor": 2
}
