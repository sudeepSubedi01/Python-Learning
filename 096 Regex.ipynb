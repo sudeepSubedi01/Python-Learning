{
 "cells": [
  {
   "cell_type": "code",
   "execution_count": 35,
   "metadata": {},
   "outputs": [],
   "source": [
    "import re"
   ]
  },
  {
   "cell_type": "markdown",
   "metadata": {},
   "source": [
    "# Extracting phone numbers"
   ]
  },
  {
   "cell_type": "code",
   "execution_count": 36,
   "metadata": {},
   "outputs": [
    {
     "name": "stderr",
     "output_type": "stream",
     "text": [
      "<>:5: SyntaxWarning: invalid escape sequence '\\('\n",
      "<>:5: SyntaxWarning: invalid escape sequence '\\('\n",
      "C:\\Users\\Acer1\\AppData\\Local\\Temp\\ipykernel_24032\\821506012.py:5: SyntaxWarning: invalid escape sequence '\\('\n",
      "  pattern = '\\(\\d{3}\\)-\\d-\\{\\d{2}\\}-\\d{4}|\\d{10}'\n"
     ]
    },
    {
     "data": {
      "text/plain": [
       "['9985647836', '(146)-4-{23}-4756']"
      ]
     },
     "execution_count": 36,
     "metadata": {},
     "output_type": "execute_result"
    }
   ],
   "source": [
    "text = '''The name of the company is Tesla. The phone number to contact is 9985647836. \n",
    "Also there is another number you can easily contact that is (146)-4-{23}-4756\n",
    "'''\n",
    "\n",
    "pattern = '\\(\\d{3}\\)-\\d-\\{\\d{2}\\}-\\d{4}|\\d{10}'\n",
    "\n",
    "matches = re.findall(pattern,text)\n",
    "matches"
   ]
  },
  {
   "cell_type": "markdown",
   "metadata": {},
   "source": [
    "# Extracting topics"
   ]
  },
  {
   "cell_type": "code",
   "execution_count": 37,
   "metadata": {},
   "outputs": [
    {
     "name": "stderr",
     "output_type": "stream",
     "text": [
      "<>:22: SyntaxWarning: invalid escape sequence '\\d'\n",
      "<>:22: SyntaxWarning: invalid escape sequence '\\d'\n",
      "C:\\Users\\Acer1\\AppData\\Local\\Temp\\ipykernel_24032\\3902329671.py:22: SyntaxWarning: invalid escape sequence '\\d'\n",
      "  pattern = 'Note \\d ([^\\n]*)'\n"
     ]
    },
    {
     "data": {
      "text/plain": [
       "['Overview ', 'Summary of Significant Accounting Policies ']"
      ]
     },
     "execution_count": 37,
     "metadata": {},
     "output_type": "execute_result"
    }
   ],
   "source": [
    "text = '''Note 1 Overview \n",
    "Tesla, Inc. (\"Tesla\", the \"Company\", \"we\", \"us\" or \"our\") \n",
    "was incorporated in the State of Delaware on products. Our Chief Executive Officer, \n",
    "as the chief operating decision maker (\"CODM\"), organizes our co Beginning in the \n",
    "first quarter of 2021, there has been a trend in many parts of the world of increasing \n",
    "against COVID-19, as well as an easing of restrictions on social, business, travel \n",
    "and government activ rates and regulations continue to fluctuate in various regions \n",
    "and there are ongoing global impacts res and increases in costs for logistics and supply \n",
    "chains, such as increased port congestion, intermittent supply. We have also \n",
    "previously been affected by temporary manufacturing closures, employment and compe \n",
    "administrative activities supporting our product deliveries and deployments. \n",
    "Note 2 Summary of Significant Accounting Policies \n",
    "Unaudited Interim Financial Statements The consolidated \n",
    "balance sheet as of September 30, 2021, the consolidated statements of operations, the \n",
    "comprehensive income, the consolidated statements of redeemable noncontrolling interests \n",
    "and equity for 30, 2021 and 2020 and the consolidated statements of cash flows for the nine \n",
    "months ended September 30, disclosed in the accompanying notes, are unaudited. The consolidated \n",
    "balance sheet as of December 31, 2 consolidated financial statements as of that date. \n",
    "The interim consolidated financial statements and th conjunction with the annual consolidated \n",
    "financial statements and the accompanying notes contained in c ended December 31, 2020.'''\n",
    "\n",
    "pattern = 'Note \\d ([^\\n]*)'\n",
    "\n",
    "matches = re.findall(pattern,text)\n",
    "matches"
   ]
  },
  {
   "cell_type": "markdown",
   "metadata": {},
   "source": [
    "# Extracting fiscal years"
   ]
  },
  {
   "cell_type": "code",
   "execution_count": 38,
   "metadata": {},
   "outputs": [
    {
     "name": "stderr",
     "output_type": "stream",
     "text": [
      "<>:5: SyntaxWarning: invalid escape sequence '\\d'\n",
      "<>:5: SyntaxWarning: invalid escape sequence '\\d'\n",
      "C:\\Users\\Acer1\\AppData\\Local\\Temp\\ipykernel_24032\\902994378.py:5: SyntaxWarning: invalid escape sequence '\\d'\n",
      "  pattern = 'FY\\d{4} Q[1-4]'\n"
     ]
    },
    {
     "data": {
      "text/plain": [
       "['FY2021 Q1', 'FY2020 Q4', 'fy2021 Q3']"
      ]
     },
     "execution_count": 38,
     "metadata": {},
     "output_type": "execute_result"
    }
   ],
   "source": [
    "text = '''The gross cost of operating lease vehicles in FY2021 Q1 was $4.85 billion. In previous quarter i.e. FY2020 Q4 it was $3 billion.\n",
    "The invalid fiscal years are FY2021 Q5\n",
    "Valid are: fy2021 Q3'''\n",
    "\n",
    "pattern = 'FY\\d{4} Q[1-4]'\n",
    "\n",
    "matches = re.findall(pattern,text, flags=re.IGNORECASE)\n",
    "matches"
   ]
  },
  {
   "cell_type": "markdown",
   "metadata": {},
   "source": [
    "# Extracting fiscal years; case insensitive"
   ]
  },
  {
   "cell_type": "code",
   "execution_count": 39,
   "metadata": {},
   "outputs": [
    {
     "name": "stderr",
     "output_type": "stream",
     "text": [
      "<>:5: SyntaxWarning: invalid escape sequence '\\d'\n",
      "<>:5: SyntaxWarning: invalid escape sequence '\\d'\n",
      "C:\\Users\\Acer1\\AppData\\Local\\Temp\\ipykernel_24032\\1135351923.py:5: SyntaxWarning: invalid escape sequence '\\d'\n",
      "  pattern = 'FY(\\d{4} Q[1-4])'\n"
     ]
    },
    {
     "data": {
      "text/plain": [
       "['2021 Q1', '2020 Q4', '2021 Q3']"
      ]
     },
     "execution_count": 39,
     "metadata": {},
     "output_type": "execute_result"
    }
   ],
   "source": [
    "text = '''The gross cost of operating lease vehicles in FY2021 Q1 was $4.85 billion. In previous quarter i.e. FY2020 Q4 it was $3 billion.\n",
    "The invalid fiscal years are FY2021 Q5\n",
    "Valid are: fy2021 Q3'''\n",
    "\n",
    "pattern = 'FY(\\d{4} Q[1-4])'\n",
    "\n",
    "matches = re.findall(pattern,text, flags=re.IGNORECASE)\n",
    "matches"
   ]
  },
  {
   "cell_type": "markdown",
   "metadata": {},
   "source": [
    "# Extracting amount"
   ]
  },
  {
   "cell_type": "code",
   "execution_count": 40,
   "metadata": {},
   "outputs": [
    {
     "name": "stderr",
     "output_type": "stream",
     "text": [
      "<>:6: SyntaxWarning: invalid escape sequence '\\$'\n",
      "<>:6: SyntaxWarning: invalid escape sequence '\\$'\n",
      "C:\\Users\\Acer1\\AppData\\Local\\Temp\\ipykernel_24032\\1414777451.py:6: SyntaxWarning: invalid escape sequence '\\$'\n",
      "  pattern = '\\$[0-9\\.]+'\n"
     ]
    },
    {
     "data": {
      "text/plain": [
       "['$4.85', '$56.25698', '$3']"
      ]
     },
     "execution_count": 40,
     "metadata": {},
     "output_type": "execute_result"
    }
   ],
   "source": [
    "text = '''The gross cost of operating lease vehicles in FY2021 Q1 was $4.85 billion. In $56.25698 previous 456987 quarter i.e. FY2020 Q4 it was $3 billion.\n",
    "The invalid fiscal years are FY2021 Q5\n",
    "Valid are: fy2021 Q3'''\n",
    "\n",
    "# pattern = '\\$[\\d\\.]+'\n",
    "pattern = '\\$[0-9\\.]+'\n",
    "\n",
    "\n",
    "matches = re.findall(pattern,text, flags=re.IGNORECASE)\n",
    "matches"
   ]
  },
  {
   "cell_type": "markdown",
   "metadata": {},
   "source": [
    "# Extracting amount without dollar sign"
   ]
  },
  {
   "cell_type": "code",
   "execution_count": 41,
   "metadata": {},
   "outputs": [
    {
     "name": "stderr",
     "output_type": "stream",
     "text": [
      "<>:6: SyntaxWarning: invalid escape sequence '\\$'\n",
      "<>:6: SyntaxWarning: invalid escape sequence '\\$'\n",
      "C:\\Users\\Acer1\\AppData\\Local\\Temp\\ipykernel_24032\\923956262.py:6: SyntaxWarning: invalid escape sequence '\\$'\n",
      "  pattern = '\\$([0-9\\.]+)'\n"
     ]
    },
    {
     "data": {
      "text/plain": [
       "['4.85', '3', '56.25698.']"
      ]
     },
     "execution_count": 41,
     "metadata": {},
     "output_type": "execute_result"
    }
   ],
   "source": [
    "text = '''The gross cost of operating lease vehicles in FY2021 Q1 was $4.85 billion. In previous 456987 quarter i.e. FY2020 Q4 it was $3 billion.\n",
    "The invalid fiscal years are FY2021 Q5 was the value $56.25698.\n",
    "Valid are: fy2021 Q3'''\n",
    "\n",
    "# pattern = '\\$[\\d\\.]+'\n",
    "pattern = '\\$([0-9\\.]+)'\n",
    "\n",
    "\n",
    "matches = re.findall(pattern,text, flags=re.IGNORECASE)\n",
    "matches"
   ]
  },
  {
   "cell_type": "markdown",
   "metadata": {},
   "source": [
    "# Extracting both year and amount"
   ]
  },
  {
   "cell_type": "code",
   "execution_count": 42,
   "metadata": {},
   "outputs": [
    {
     "name": "stderr",
     "output_type": "stream",
     "text": [
      "<>:6: SyntaxWarning: invalid escape sequence '\\d'\n",
      "<>:6: SyntaxWarning: invalid escape sequence '\\d'\n",
      "C:\\Users\\Acer1\\AppData\\Local\\Temp\\ipykernel_24032\\24750933.py:6: SyntaxWarning: invalid escape sequence '\\d'\n",
      "  pattern = 'FY(\\d{4} Q[1-4])[^\\$]+\\$([0-9.]+)'\n"
     ]
    },
    {
     "data": {
      "text/plain": [
       "[('2021 Q1', '4.85'),\n",
       " ('2020 Q4', '3'),\n",
       " ('2021 Q4', '56.25698'),\n",
       " ('2021 Q3', '56935')]"
      ]
     },
     "execution_count": 42,
     "metadata": {},
     "output_type": "execute_result"
    }
   ],
   "source": [
    "text = '''The gross cost of operating lease vehicles in FY2021 Q1 was $4.85 billion. In previous 456987 quarter i.e. FY2020 Q4 it was $3 billion.\n",
    "The another fiscal years are FY2021 Q4 was the value $56.25698\n",
    "Valid are: fy2021 Q3 was teh anmfkjka   $56935'''\n",
    "\n",
    "# pattern = '\\$[\\d\\.]+'\n",
    "pattern = 'FY(\\d{4} Q[1-4])[^\\$]+\\$([0-9.]+)'\n",
    "\n",
    "\n",
    "matches = re.findall(pattern,text, flags=re.IGNORECASE)\n",
    "matches"
   ]
  },
  {
   "cell_type": "markdown",
   "metadata": {},
   "source": [
    "# Search method"
   ]
  },
  {
   "cell_type": "code",
   "execution_count": 43,
   "metadata": {},
   "outputs": [
    {
     "name": "stderr",
     "output_type": "stream",
     "text": [
      "<>:6: SyntaxWarning: invalid escape sequence '\\d'\n",
      "<>:6: SyntaxWarning: invalid escape sequence '\\d'\n",
      "C:\\Users\\Acer1\\AppData\\Local\\Temp\\ipykernel_24032\\3649013650.py:6: SyntaxWarning: invalid escape sequence '\\d'\n",
      "  pattern = 'FY(\\d{4} Q[1-4])[^\\$]+\\$([0-9.]+)'\n"
     ]
    },
    {
     "data": {
      "text/plain": [
       "('2021 Q1', '4.85')"
      ]
     },
     "execution_count": 43,
     "metadata": {},
     "output_type": "execute_result"
    }
   ],
   "source": [
    "text = '''The gross cost of operating lease vehicles in FY2021 Q1 was $4.85 billion. In previous 456987 quarter i.e. FY2020 Q4 it was $3 billion.\n",
    "The another fiscal years are FY2021 Q4 was the value $56.25698\n",
    "Valid are: fy2021 Q3 was teh anmfkjka   $56935'''\n",
    "\n",
    "# pattern = '\\$[\\d\\.]+'\n",
    "pattern = 'FY(\\d{4} Q[1-4])[^\\$]+\\$([0-9.]+)'\n",
    "\n",
    "\n",
    "matches = re.search(pattern,text, flags=re.IGNORECASE)\n",
    "matches.groups()"
   ]
  },
  {
   "cell_type": "code",
   "execution_count": null,
   "metadata": {},
   "outputs": [],
   "source": []
  }
 ],
 "metadata": {
  "kernelspec": {
   "display_name": "Python 3",
   "language": "python",
   "name": "python3"
  },
  "language_info": {
   "codemirror_mode": {
    "name": "ipython",
    "version": 3
   },
   "file_extension": ".py",
   "mimetype": "text/x-python",
   "name": "python",
   "nbconvert_exporter": "python",
   "pygments_lexer": "ipython3",
   "version": "3.12.2"
  }
 },
 "nbformat": 4,
 "nbformat_minor": 2
}
